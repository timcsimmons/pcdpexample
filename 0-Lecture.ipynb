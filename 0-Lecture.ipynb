{
 "cells": [
  {
   "cell_type": "markdown",
   "metadata": {},
   "source": [
    "# Linear regression\n",
    "\n",
    "Math 5090\n",
    "\n",
    "November 16, 2016\n",
    "\n",
    "## Setup\n",
    "\n",
    "The goal of regressions of all kinds is to describe the dependence of a variable (outcome) on a number of other variables (covariates or, in epidemiological terms, exposures). If $Y$ is outcome of interest and $\\mathbf{x} = (x_1, \\dots, x_p)$ the vector of covariates, often the goal is to estimate $E[Y|\\mathbf{x}]$.\n",
    "\n",
    "**Points arising**\n",
    "  1. From 5010, $E[Y|\\mathbf{x}]$ is a function of $\\mathbf{x}$ alone.\n",
    "  2. There are other quantities that might be interest. Ambitiously, for example, the conditional CDF of $Y$ given $x$ or the corresponding density function might be estimated (though only with great difficulty!).\n",
    "\n",
    "$$\n",
    "Y_i = \\beta_0 + \\beta_1x_1 + \\cdots + \\beta_px_p + \\varepsilon_i\n",
    "$$"
   ]
  },
  {
   "cell_type": "code",
   "execution_count": null,
   "metadata": {
    "collapsed": true
   },
   "outputs": [],
   "source": []
  }
 ],
 "metadata": {
  "kernelspec": {
   "display_name": "Python 3",
   "language": "python",
   "name": "python3"
  },
  "language_info": {
   "codemirror_mode": {
    "name": "ipython",
    "version": 3
   },
   "file_extension": ".py",
   "mimetype": "text/x-python",
   "name": "python",
   "nbconvert_exporter": "python",
   "pygments_lexer": "ipython3",
   "version": "3.5.1"
  }
 },
 "nbformat": 4,
 "nbformat_minor": 0
}
